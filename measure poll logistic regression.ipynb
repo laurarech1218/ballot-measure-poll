{
 "cells": [
  {
   "cell_type": "code",
   "execution_count": 1,
   "id": "336b5f13",
   "metadata": {},
   "outputs": [],
   "source": [
    "import pandas as pd\n",
    "import numpy as np\n",
    "import seaborn as sns\n",
    "import matplotlib.pyplot as plt\n",
    "from sklearn.linear_model import LogisticRegression\n",
    "from sklearn.preprocessing import StandardScaler\n",
    "import pandas as pd\n",
    "import statsmodels.api as sm\n",
    "\n",
    "%matplotlib inline"
   ]
  },
  {
   "cell_type": "code",
   "execution_count": 2,
   "id": "24f85ae0",
   "metadata": {},
   "outputs": [],
   "source": [
    "df = pd.read_csv('downloads\\\\ballot_measure_poll.csv')"
   ]
  },
  {
   "cell_type": "code",
   "execution_count": 3,
   "id": "2bffdde8",
   "metadata": {},
   "outputs": [
    {
     "data": {
      "text/plain": [
       "voter_id                         0\n",
       "support_initiative               0\n",
       "region                           0\n",
       "county                           0\n",
       "education                        0\n",
       "ses                              0\n",
       "ethnicity                        0\n",
       "ideology                         0\n",
       "kids                             0\n",
       "authoritarianism_score          53\n",
       "taxes_score                     53\n",
       "guns_score                      53\n",
       "healthcare_score                53\n",
       "immigrants_score                53\n",
       "poor_score                      53\n",
       "environmentalism_score          57\n",
       "trust_in_institutions_score     53\n",
       "economic_populism_score         53\n",
       "military_score                  53\n",
       "regulation_score                53\n",
       "traditionalism_score            53\n",
       "compassion_score                53\n",
       "free_trade_score                53\n",
       "globalism_score                 53\n",
       "healthcare_women_score          53\n",
       "populism_score                  53\n",
       "presidential_score             144\n",
       "racial_resentment_score         53\n",
       "religious_freedom_score         53\n",
       "dtype: int64"
      ]
     },
     "execution_count": 3,
     "metadata": {},
     "output_type": "execute_result"
    }
   ],
   "source": [
    "df.isnull().sum()"
   ]
  },
  {
   "cell_type": "code",
   "execution_count": 4,
   "id": "3d217a85",
   "metadata": {},
   "outputs": [
    {
     "data": {
      "text/plain": [
       "voter_id                        0\n",
       "support_initiative              0\n",
       "region                          0\n",
       "county                          0\n",
       "education                       0\n",
       "ses                             0\n",
       "ethnicity                       0\n",
       "ideology                        0\n",
       "kids                            0\n",
       "authoritarianism_score          0\n",
       "taxes_score                     0\n",
       "guns_score                      0\n",
       "healthcare_score                0\n",
       "immigrants_score                0\n",
       "poor_score                      0\n",
       "environmentalism_score          4\n",
       "trust_in_institutions_score     0\n",
       "economic_populism_score         0\n",
       "military_score                  0\n",
       "regulation_score                0\n",
       "traditionalism_score            0\n",
       "compassion_score                0\n",
       "free_trade_score                0\n",
       "globalism_score                 0\n",
       "healthcare_women_score          0\n",
       "populism_score                  0\n",
       "presidential_score             91\n",
       "racial_resentment_score         0\n",
       "religious_freedom_score         0\n",
       "dtype: int64"
      ]
     },
     "execution_count": 4,
     "metadata": {},
     "output_type": "execute_result"
    }
   ],
   "source": [
    "df.dropna(thresh = 10,inplace=True)\n",
    "df.isnull().sum()"
   ]
  },
  {
   "cell_type": "code",
   "execution_count": 5,
   "id": "6ec31893",
   "metadata": {},
   "outputs": [
    {
     "data": {
      "text/plain": [
       "voter_id                       0\n",
       "support_initiative             0\n",
       "region                         0\n",
       "county                         0\n",
       "education                      0\n",
       "ses                            0\n",
       "ethnicity                      0\n",
       "ideology                       0\n",
       "kids                           0\n",
       "authoritarianism_score         0\n",
       "taxes_score                    0\n",
       "guns_score                     0\n",
       "healthcare_score               0\n",
       "immigrants_score               0\n",
       "poor_score                     0\n",
       "environmentalism_score         0\n",
       "trust_in_institutions_score    0\n",
       "economic_populism_score        0\n",
       "military_score                 0\n",
       "regulation_score               0\n",
       "traditionalism_score           0\n",
       "compassion_score               0\n",
       "free_trade_score               0\n",
       "globalism_score                0\n",
       "healthcare_women_score         0\n",
       "populism_score                 0\n",
       "presidential_score             0\n",
       "racial_resentment_score        0\n",
       "religious_freedom_score        0\n",
       "dtype: int64"
      ]
     },
     "execution_count": 5,
     "metadata": {},
     "output_type": "execute_result"
    }
   ],
   "source": [
    "df.dropna(subset=['environmentalism_score','presidential_score'],inplace=True)\n",
    "df.isnull().sum()"
   ]
  },
  {
   "cell_type": "code",
   "execution_count": 6,
   "id": "e87d8640",
   "metadata": {},
   "outputs": [
    {
     "name": "stdout",
     "output_type": "stream",
     "text": [
      "0       1\n",
      "2       1\n",
      "3       0\n",
      "4       0\n",
      "5       1\n",
      "       ..\n",
      "1093    0\n",
      "1094    1\n",
      "1096    0\n",
      "1097    1\n",
      "1098    1\n",
      "Name: support, Length: 951, dtype: int64\n"
     ]
    }
   ],
   "source": [
    "def Classification(support_initiative):\n",
    "    if support_initiative == 'yes':\n",
    "        return 1\n",
    "    elif support_initiative == 'no':\n",
    "        return 0\n",
    "    elif support_initiative == 'dont_know':\n",
    "        return 0\n",
    "\n",
    "    \n",
    "df['support']=df['support_initiative'].apply(Classification)\n",
    "print(df['support'])"
   ]
  },
  {
   "cell_type": "code",
   "execution_count": 7,
   "id": "ec9e8c4f",
   "metadata": {},
   "outputs": [
    {
     "data": {
      "text/html": [
       "<div>\n",
       "<style scoped>\n",
       "    .dataframe tbody tr th:only-of-type {\n",
       "        vertical-align: middle;\n",
       "    }\n",
       "\n",
       "    .dataframe tbody tr th {\n",
       "        vertical-align: top;\n",
       "    }\n",
       "\n",
       "    .dataframe thead th {\n",
       "        text-align: right;\n",
       "    }\n",
       "</style>\n",
       "<table border=\"1\" class=\"dataframe\">\n",
       "  <thead>\n",
       "    <tr style=\"text-align: right;\">\n",
       "      <th></th>\n",
       "      <th>voter_id</th>\n",
       "      <th>support_initiative</th>\n",
       "      <th>region</th>\n",
       "      <th>county</th>\n",
       "      <th>education</th>\n",
       "      <th>ses</th>\n",
       "      <th>ethnicity</th>\n",
       "      <th>ideology</th>\n",
       "      <th>kids</th>\n",
       "      <th>authoritarianism_score</th>\n",
       "      <th>...</th>\n",
       "      <th>traditionalism_score</th>\n",
       "      <th>compassion_score</th>\n",
       "      <th>free_trade_score</th>\n",
       "      <th>globalism_score</th>\n",
       "      <th>healthcare_women_score</th>\n",
       "      <th>populism_score</th>\n",
       "      <th>presidential_score</th>\n",
       "      <th>racial_resentment_score</th>\n",
       "      <th>religious_freedom_score</th>\n",
       "      <th>support</th>\n",
       "    </tr>\n",
       "  </thead>\n",
       "  <tbody>\n",
       "    <tr>\n",
       "      <th>0</th>\n",
       "      <td>0</td>\n",
       "      <td>yes</td>\n",
       "      <td>west</td>\n",
       "      <td>duchess</td>\n",
       "      <td>college_graduate</td>\n",
       "      <td>mid_ses</td>\n",
       "      <td>race_A</td>\n",
       "      <td>moderate</td>\n",
       "      <td>yes</td>\n",
       "      <td>69.0</td>\n",
       "      <td>...</td>\n",
       "      <td>38.0</td>\n",
       "      <td>66.0</td>\n",
       "      <td>42.0</td>\n",
       "      <td>49.0</td>\n",
       "      <td>71.0</td>\n",
       "      <td>31.0</td>\n",
       "      <td>15.0</td>\n",
       "      <td>55.0</td>\n",
       "      <td>36.0</td>\n",
       "      <td>1</td>\n",
       "    </tr>\n",
       "    <tr>\n",
       "      <th>2</th>\n",
       "      <td>2</td>\n",
       "      <td>yes</td>\n",
       "      <td>east</td>\n",
       "      <td>llandilo</td>\n",
       "      <td>college_graduate</td>\n",
       "      <td>wealthy</td>\n",
       "      <td>race_B</td>\n",
       "      <td>liberal</td>\n",
       "      <td>yes</td>\n",
       "      <td>73.0</td>\n",
       "      <td>...</td>\n",
       "      <td>52.0</td>\n",
       "      <td>50.0</td>\n",
       "      <td>48.0</td>\n",
       "      <td>49.0</td>\n",
       "      <td>51.0</td>\n",
       "      <td>37.0</td>\n",
       "      <td>13.0</td>\n",
       "      <td>67.0</td>\n",
       "      <td>57.0</td>\n",
       "      <td>1</td>\n",
       "    </tr>\n",
       "  </tbody>\n",
       "</table>\n",
       "<p>2 rows × 30 columns</p>\n",
       "</div>"
      ],
      "text/plain": [
       "   voter_id support_initiative region    county         education      ses  \\\n",
       "0         0                yes   west   duchess  college_graduate  mid_ses   \n",
       "2         2                yes   east  llandilo  college_graduate  wealthy   \n",
       "\n",
       "  ethnicity  ideology kids  authoritarianism_score  ...  traditionalism_score  \\\n",
       "0    race_A  moderate  yes                    69.0  ...                  38.0   \n",
       "2    race_B   liberal  yes                    73.0  ...                  52.0   \n",
       "\n",
       "   compassion_score  free_trade_score  globalism_score  \\\n",
       "0              66.0              42.0             49.0   \n",
       "2              50.0              48.0             49.0   \n",
       "\n",
       "   healthcare_women_score  populism_score  presidential_score  \\\n",
       "0                    71.0            31.0                15.0   \n",
       "2                    51.0            37.0                13.0   \n",
       "\n",
       "   racial_resentment_score  religious_freedom_score  support  \n",
       "0                     55.0                     36.0        1  \n",
       "2                     67.0                     57.0        1  \n",
       "\n",
       "[2 rows x 30 columns]"
      ]
     },
     "execution_count": 7,
     "metadata": {},
     "output_type": "execute_result"
    }
   ],
   "source": [
    "df.head(2)"
   ]
  },
  {
   "cell_type": "code",
   "execution_count": 8,
   "id": "d5e54f5d",
   "metadata": {
    "scrolled": false
   },
   "outputs": [
    {
     "data": {
      "text/html": [
       "<div>\n",
       "<style scoped>\n",
       "    .dataframe tbody tr th:only-of-type {\n",
       "        vertical-align: middle;\n",
       "    }\n",
       "\n",
       "    .dataframe tbody tr th {\n",
       "        vertical-align: top;\n",
       "    }\n",
       "\n",
       "    .dataframe thead th {\n",
       "        text-align: right;\n",
       "    }\n",
       "</style>\n",
       "<table border=\"1\" class=\"dataframe\">\n",
       "  <thead>\n",
       "    <tr style=\"text-align: right;\">\n",
       "      <th></th>\n",
       "      <th>authoritarianism_score</th>\n",
       "      <th>taxes_score</th>\n",
       "      <th>guns_score</th>\n",
       "      <th>healthcare_score</th>\n",
       "      <th>immigrants_score</th>\n",
       "      <th>poor_score</th>\n",
       "      <th>environmentalism_score</th>\n",
       "      <th>trust_in_institutions_score</th>\n",
       "      <th>economic_populism_score</th>\n",
       "      <th>military_score</th>\n",
       "      <th>...</th>\n",
       "      <th>traditionalism_score</th>\n",
       "      <th>compassion_score</th>\n",
       "      <th>free_trade_score</th>\n",
       "      <th>globalism_score</th>\n",
       "      <th>healthcare_women_score</th>\n",
       "      <th>populism_score</th>\n",
       "      <th>presidential_score</th>\n",
       "      <th>racial_resentment_score</th>\n",
       "      <th>religious_freedom_score</th>\n",
       "      <th>support</th>\n",
       "    </tr>\n",
       "  </thead>\n",
       "  <tbody>\n",
       "    <tr>\n",
       "      <th>0</th>\n",
       "      <td>69.0</td>\n",
       "      <td>50.0</td>\n",
       "      <td>39.0</td>\n",
       "      <td>62.0</td>\n",
       "      <td>50.0</td>\n",
       "      <td>51.0</td>\n",
       "      <td>49.0</td>\n",
       "      <td>46.0</td>\n",
       "      <td>54.0</td>\n",
       "      <td>40.0</td>\n",
       "      <td>...</td>\n",
       "      <td>38.0</td>\n",
       "      <td>66.0</td>\n",
       "      <td>42.0</td>\n",
       "      <td>49.0</td>\n",
       "      <td>71.0</td>\n",
       "      <td>31.0</td>\n",
       "      <td>15.0</td>\n",
       "      <td>55.0</td>\n",
       "      <td>36.0</td>\n",
       "      <td>1</td>\n",
       "    </tr>\n",
       "    <tr>\n",
       "      <th>2</th>\n",
       "      <td>73.0</td>\n",
       "      <td>34.0</td>\n",
       "      <td>44.0</td>\n",
       "      <td>35.0</td>\n",
       "      <td>50.0</td>\n",
       "      <td>38.0</td>\n",
       "      <td>54.0</td>\n",
       "      <td>46.0</td>\n",
       "      <td>40.0</td>\n",
       "      <td>56.0</td>\n",
       "      <td>...</td>\n",
       "      <td>52.0</td>\n",
       "      <td>50.0</td>\n",
       "      <td>48.0</td>\n",
       "      <td>49.0</td>\n",
       "      <td>51.0</td>\n",
       "      <td>37.0</td>\n",
       "      <td>13.0</td>\n",
       "      <td>67.0</td>\n",
       "      <td>57.0</td>\n",
       "      <td>1</td>\n",
       "    </tr>\n",
       "  </tbody>\n",
       "</table>\n",
       "<p>2 rows × 21 columns</p>\n",
       "</div>"
      ],
      "text/plain": [
       "   authoritarianism_score  taxes_score  guns_score  healthcare_score  \\\n",
       "0                    69.0         50.0        39.0              62.0   \n",
       "2                    73.0         34.0        44.0              35.0   \n",
       "\n",
       "   immigrants_score  poor_score  environmentalism_score  \\\n",
       "0              50.0        51.0                    49.0   \n",
       "2              50.0        38.0                    54.0   \n",
       "\n",
       "   trust_in_institutions_score  economic_populism_score  military_score  ...  \\\n",
       "0                         46.0                     54.0            40.0  ...   \n",
       "2                         46.0                     40.0            56.0  ...   \n",
       "\n",
       "   traditionalism_score  compassion_score  free_trade_score  globalism_score  \\\n",
       "0                  38.0              66.0              42.0             49.0   \n",
       "2                  52.0              50.0              48.0             49.0   \n",
       "\n",
       "   healthcare_women_score  populism_score  presidential_score  \\\n",
       "0                    71.0            31.0                15.0   \n",
       "2                    51.0            37.0                13.0   \n",
       "\n",
       "   racial_resentment_score  religious_freedom_score  support  \n",
       "0                     55.0                     36.0        1  \n",
       "2                     67.0                     57.0        1  \n",
       "\n",
       "[2 rows x 21 columns]"
      ]
     },
     "execution_count": 8,
     "metadata": {},
     "output_type": "execute_result"
    }
   ],
   "source": [
    "df.drop(['voter_id','support_initiative','region','county','education','ses','ethnicity','ideology','kids'],axis=1,inplace=True)\n",
    "df.head(2)"
   ]
  },
  {
   "cell_type": "code",
   "execution_count": 9,
   "id": "26f357b8",
   "metadata": {},
   "outputs": [],
   "source": [
    "from sklearn.model_selection import train_test_split"
   ]
  },
  {
   "cell_type": "code",
   "execution_count": 10,
   "id": "df4451f8",
   "metadata": {},
   "outputs": [],
   "source": [
    "X = df.drop(\"support\",axis=1)\n",
    "y = df[\"support\"]\n",
    "X_train, X_test, y_train, y_test = train_test_split (X,y,test_size=0.3,random_state=1)"
   ]
  },
  {
   "cell_type": "code",
   "execution_count": 11,
   "id": "d9bd21d1",
   "metadata": {},
   "outputs": [
    {
     "name": "stderr",
     "output_type": "stream",
     "text": [
      "C:\\Users\\laura\\anaconda3\\lib\\site-packages\\sklearn\\linear_model\\_logistic.py:763: ConvergenceWarning: lbfgs failed to converge (status=1):\n",
      "STOP: TOTAL NO. of ITERATIONS REACHED LIMIT.\n",
      "\n",
      "Increase the number of iterations (max_iter) or scale the data as shown in:\n",
      "    https://scikit-learn.org/stable/modules/preprocessing.html\n",
      "Please also refer to the documentation for alternative solver options:\n",
      "    https://scikit-learn.org/stable/modules/linear_model.html#logistic-regression\n",
      "  n_iter_i = _check_optimize_result(\n"
     ]
    },
    {
     "data": {
      "text/plain": [
       "LogisticRegression()"
      ]
     },
     "execution_count": 11,
     "metadata": {},
     "output_type": "execute_result"
    }
   ],
   "source": [
    "from sklearn.linear_model import LogisticRegression\n",
    "log_reg = LogisticRegression()\n",
    "log_reg.fit(X_train, y_train)"
   ]
  },
  {
   "cell_type": "code",
   "execution_count": 12,
   "id": "47369354",
   "metadata": {},
   "outputs": [
    {
     "name": "stdout",
     "output_type": "stream",
     "text": [
      "Optimization terminated successfully.\n",
      "         Current function value: 0.567317\n",
      "         Iterations 6\n"
     ]
    }
   ],
   "source": [
    "import statsmodels.formula.api as smf\n",
    "log_reg = smf.logit(\"support ~ authoritarianism_score+taxes_score+guns_score+healthcare_score+immigrants_score+poor_score+environmentalism_score+economic_populism_score+military_score+regulation_score+traditionalism_score+compassion_score+free_trade_score+globalism_score+healthcare_women_score+populism_score+presidential_score+racial_resentment_score+religious_freedom_score\", df).fit()"
   ]
  },
  {
   "cell_type": "code",
   "execution_count": 13,
   "id": "0942f25c",
   "metadata": {},
   "outputs": [
    {
     "name": "stdout",
     "output_type": "stream",
     "text": [
      "                           Logit Regression Results                           \n",
      "==============================================================================\n",
      "Dep. Variable:                support   No. Observations:                  951\n",
      "Model:                          Logit   Df Residuals:                      931\n",
      "Method:                           MLE   Df Model:                           19\n",
      "Date:                Thu, 31 Mar 2022   Pseudo R-squ.:                  0.1256\n",
      "Time:                        20:08:30   Log-Likelihood:                -539.52\n",
      "converged:                       True   LL-Null:                       -617.04\n",
      "Covariance Type:            nonrobust   LLR p-value:                 2.319e-23\n",
      "===========================================================================================\n",
      "                              coef    std err          z      P>|z|      [0.025      0.975]\n",
      "-------------------------------------------------------------------------------------------\n",
      "Intercept                   3.0864     20.938      0.147      0.883     -37.950      44.123\n",
      "authoritarianism_score      0.0553      0.122      0.455      0.649      -0.183       0.294\n",
      "taxes_score                 0.0884      0.108      0.821      0.412      -0.123       0.299\n",
      "guns_score                 -0.0045      0.027     -0.167      0.868      -0.057       0.048\n",
      "healthcare_score           -0.1343      0.090     -1.488      0.137      -0.311       0.043\n",
      "immigrants_score            0.0251      0.057      0.443      0.658      -0.086       0.136\n",
      "poor_score                 -0.0291      0.054     -0.544      0.587      -0.134       0.076\n",
      "environmentalism_score      0.0727      0.195      0.372      0.710      -0.310       0.456\n",
      "economic_populism_score    -0.0106      0.034     -0.310      0.757      -0.077       0.056\n",
      "military_score             -0.0565      0.080     -0.710      0.477      -0.212       0.099\n",
      "regulation_score            0.0488      0.053      0.925      0.355      -0.055       0.152\n",
      "traditionalism_score       -0.0166      0.107     -0.155      0.877      -0.226       0.193\n",
      "compassion_score           -0.0088      0.084     -0.105      0.916      -0.173       0.155\n",
      "free_trade_score           -0.0414      0.084     -0.491      0.623      -0.206       0.124\n",
      "globalism_score            -0.0256      0.103     -0.249      0.803      -0.227       0.176\n",
      "healthcare_women_score      0.0449      0.039      1.159      0.247      -0.031       0.121\n",
      "populism_score              0.1565      0.107      1.461      0.144      -0.053       0.366\n",
      "presidential_score         -0.0158      0.006     -2.860      0.004      -0.027      -0.005\n",
      "racial_resentment_score    -0.0827      0.067     -1.225      0.221      -0.215       0.050\n",
      "religious_freedom_score    -0.0901      0.098     -0.921      0.357      -0.282       0.102\n",
      "===========================================================================================\n"
     ]
    }
   ],
   "source": [
    "print(log_reg.summary())"
   ]
  },
  {
   "cell_type": "code",
   "execution_count": 15,
   "id": "f6b1e9dc",
   "metadata": {},
   "outputs": [
    {
     "name": "stdout",
     "output_type": "stream",
     "text": [
      "Optimization terminated successfully.\n",
      "         Current function value: 0.594838\n",
      "         Iterations 5\n",
      "                           Logit Regression Results                           \n",
      "==============================================================================\n",
      "Dep. Variable:                support   No. Observations:                  951\n",
      "Model:                          Logit   Df Residuals:                      949\n",
      "Method:                           MLE   Df Model:                            1\n",
      "Date:                Thu, 31 Mar 2022   Pseudo R-squ.:                 0.08322\n",
      "Time:                        20:13:47   Log-Likelihood:                -565.69\n",
      "converged:                       True   LL-Null:                       -617.04\n",
      "Covariance Type:            nonrobust   LLR p-value:                 3.895e-24\n",
      "==========================================================================================\n",
      "                             coef    std err          z      P>|z|      [0.025      0.975]\n",
      "------------------------------------------------------------------------------------------\n",
      "Intercept                 11.2944      1.134      9.959      0.000       9.072      13.517\n",
      "authoritarianism_score    -0.1423      0.015     -9.507      0.000      -0.172      -0.113\n",
      "==========================================================================================\n"
     ]
    }
   ],
   "source": [
    "log_reg = smf.logit(\"support ~ authoritarianism_score\", df).fit()\n",
    "print(log_reg.summary())"
   ]
  },
  {
   "cell_type": "code",
   "execution_count": 16,
   "id": "5a78b667",
   "metadata": {},
   "outputs": [
    {
     "name": "stdout",
     "output_type": "stream",
     "text": [
      "Optimization terminated successfully.\n",
      "         Current function value: 0.590568\n",
      "         Iterations 5\n",
      "                           Logit Regression Results                           \n",
      "==============================================================================\n",
      "Dep. Variable:                support   No. Observations:                  951\n",
      "Model:                          Logit   Df Residuals:                      948\n",
      "Method:                           MLE   Df Model:                            2\n",
      "Date:                Thu, 31 Mar 2022   Pseudo R-squ.:                 0.08980\n",
      "Time:                        20:14:30   Log-Likelihood:                -561.63\n",
      "converged:                       True   LL-Null:                       -617.04\n",
      "Covariance Type:            nonrobust   LLR p-value:                 8.606e-25\n",
      "==========================================================================================\n",
      "                             coef    std err          z      P>|z|      [0.025      0.975]\n",
      "------------------------------------------------------------------------------------------\n",
      "Intercept                  7.6951      1.668      4.614      0.000       4.426      10.964\n",
      "authoritarianism_score    -0.1137      0.018     -6.419      0.000      -0.148      -0.079\n",
      "taxes_score                0.0378      0.013      2.841      0.004       0.012       0.064\n",
      "==========================================================================================\n"
     ]
    }
   ],
   "source": [
    "log_reg = smf.logit(\"support ~ authoritarianism_score+taxes_score\", df).fit()\n",
    "print(log_reg.summary())"
   ]
  }
 ],
 "metadata": {
  "kernelspec": {
   "display_name": "Python 3 (ipykernel)",
   "language": "python",
   "name": "python3"
  },
  "language_info": {
   "codemirror_mode": {
    "name": "ipython",
    "version": 3
   },
   "file_extension": ".py",
   "mimetype": "text/x-python",
   "name": "python",
   "nbconvert_exporter": "python",
   "pygments_lexer": "ipython3",
   "version": "3.9.7"
  }
 },
 "nbformat": 4,
 "nbformat_minor": 5
}
